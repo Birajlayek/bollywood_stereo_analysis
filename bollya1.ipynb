{
  "cells": [
    {
      "cell_type": "code",
      "execution_count": 77,
      "metadata": {
        "id": "f9h9R0ifrnOz"
      },
      "outputs": [],
      "source": [
        "import numpy as np\n",
        "import pandas as pd\n",
        "import matplotlib .pyplot as plt"
      ]
    },
    {
      "cell_type": "code",
      "execution_count": 78,
      "metadata": {
        "colab": {
          "base_uri": "https://localhost:8080/",
          "height": 206
        },
        "id": "nCMghhm3vFJD",
        "outputId": "e23b0a91-0331-4c8e-e796-27549711f2d2"
      },
      "outputs": [
        {
          "data": {
            "text/html": [
              "<div>\n",
              "<style scoped>\n",
              "    .dataframe tbody tr th:only-of-type {\n",
              "        vertical-align: middle;\n",
              "    }\n",
              "\n",
              "    .dataframe tbody tr th {\n",
              "        vertical-align: top;\n",
              "    }\n",
              "\n",
              "    .dataframe thead th {\n",
              "        text-align: right;\n",
              "    }\n",
              "</style>\n",
              "<table border=\"1\" class=\"dataframe\">\n",
              "  <thead>\n",
              "    <tr style=\"text-align: right;\">\n",
              "      <th></th>\n",
              "      <th>frame_number</th>\n",
              "      <th>gender</th>\n",
              "      <th>emotion</th>\n",
              "      <th>year</th>\n",
              "      <th>movie_name</th>\n",
              "    </tr>\n",
              "  </thead>\n",
              "  <tbody>\n",
              "    <tr>\n",
              "      <th>0</th>\n",
              "      <td>28</td>\n",
              "      <td>woman</td>\n",
              "      <td>happy</td>\n",
              "      <td>2014</td>\n",
              "      <td>dedh_ishqiya</td>\n",
              "    </tr>\n",
              "    <tr>\n",
              "      <th>1</th>\n",
              "      <td>62</td>\n",
              "      <td>woman</td>\n",
              "      <td>happy</td>\n",
              "      <td>2014</td>\n",
              "      <td>dedh_ishqiya</td>\n",
              "    </tr>\n",
              "    <tr>\n",
              "      <th>2</th>\n",
              "      <td>60</td>\n",
              "      <td>man</td>\n",
              "      <td>angry</td>\n",
              "      <td>2014</td>\n",
              "      <td>dedh_ishqiya</td>\n",
              "    </tr>\n",
              "    <tr>\n",
              "      <th>3</th>\n",
              "      <td>60</td>\n",
              "      <td>man</td>\n",
              "      <td>sad</td>\n",
              "      <td>2014</td>\n",
              "      <td>dedh_ishqiya</td>\n",
              "    </tr>\n",
              "    <tr>\n",
              "      <th>4</th>\n",
              "      <td>60</td>\n",
              "      <td>man</td>\n",
              "      <td>angry</td>\n",
              "      <td>2014</td>\n",
              "      <td>dedh_ishqiya</td>\n",
              "    </tr>\n",
              "  </tbody>\n",
              "</table>\n",
              "</div>"
            ],
            "text/plain": [
              "   frame_number gender emotion  year    movie_name\n",
              "0            28  woman   happy  2014  dedh_ishqiya\n",
              "1            62  woman   happy  2014  dedh_ishqiya\n",
              "2            60    man   angry  2014  dedh_ishqiya\n",
              "3            60    man     sad  2014  dedh_ishqiya\n",
              "4            60    man   angry  2014  dedh_ishqiya"
            ]
          },
          "execution_count": 78,
          "metadata": {},
          "output_type": "execute_result"
        }
      ],
      "source": [
        "trail = pd.read_csv('./used-data/complete-data.csv')\n",
        "trail.head()"
      ]
    },
    {
      "cell_type": "code",
      "execution_count": 79,
      "metadata": {
        "colab": {
          "base_uri": "https://localhost:8080/",
          "height": 503
        },
        "id": "s3zvhMStwXBl",
        "outputId": "f1e755bb-fc2b-45fc-c7c5-d147aa190890"
      },
      "outputs": [
        {
          "data": {
            "text/plain": [
              "<Axes: xlabel='gender'>"
            ]
          },
          "execution_count": 79,
          "metadata": {},
          "output_type": "execute_result"
        },
        {
          "data": {
            "image/png": "[encoded data removed]",
            "text/plain": [
              "<Figure size 640x480 with 1 Axes>"
            ]
          },
          "metadata": {},
          "output_type": "display_data"
        }
      ],
      "source": [
        "#Emotion Distribution by Gender\n",
        "trail.groupby(['gender', 'emotion']).size().unstack().plot(kind='bar')"
      ]
    },
    {
      "cell_type": "code",
      "execution_count": 80,
      "metadata": {
        "id": "CiDlm_PEpMNw"
      },
      "outputs": [],
      "source": [
        "col_names = [\n",
        "    'year', 'value 1', 'value 2', 'value 3'\n",
        "]"
      ]
    },
    {
      "cell_type": "code",
      "execution_count": 81,
      "metadata": {
        "id": "6KVUrrPRqPOs"
      },
      "outputs": [],
      "source": [
        "def read_and_preprocess_csv(filename, prefix):\n",
        "    df = pd.read_csv(filename, header=None)\n",
        "    max_columns = df.apply(lambda row: len(row.dropna()), axis=1).max()\n",
        "    column_names = ['Year'] + [f'{prefix} {i}' for i in range(1, max_columns)]\n",
        "    df.columns = column_names\n",
        "    # df = df.fillna('')\n",
        "    return df"
      ]
    },
    {
      "cell_type": "code",
      "execution_count": 82,
      "metadata": {
        "id": "7gkZLHMVsRGh"
      },
      "outputs": [],
      "source": [
        "f_adj = read_and_preprocess_csv('./used-data/female_adjectives.csv', 'Adj')\n",
        "f_verb = read_and_preprocess_csv('./used-data/female_verb.csv', 'Verb')\n",
        "f_adjv = read_and_preprocess_csv('./used-data/female_adjverb.csv','Adv')"
      ]
    },
    {
      "cell_type": "code",
      "execution_count": 83,
      "metadata": {
        "id": "PfL5T5WDtOoX"
      },
      "outputs": [],
      "source": [
        "f_cent = pd.read_csv('./used-data/female_centrality.csv')\n",
        "f_mcent = pd.read_csv('./used-data/female_mentions_centrality.csv')"
      ]
    },
    {
      "cell_type": "code",
      "execution_count": 84,
      "metadata": {
        "id": "FkgWsrWMt0PE"
      },
      "outputs": [],
      "source": [
        "def remove_empty(df,col_name):\n",
        "  cleaned_df = df.dropna(subset=[f'{col_name} 1'])\n",
        "  return cleaned_df"
      ]
    },
    {
      "cell_type": "code",
      "execution_count": 85,
      "metadata": {
        "id": "QyDKIrE3uScL"
      },
      "outputs": [],
      "source": [
        "f_adj = remove_empty(f_adj,'Adj')\n",
        "f_verb = remove_empty(f_verb,'Verb')\n",
        "f_adjv = remove_empty(f_adjv,'Adv')"
      ]
    },
    {
      "cell_type": "code",
      "execution_count": 86,
      "metadata": {
        "colab": {
          "base_uri": "https://localhost:8080/"
        },
        "id": "ynMiwxF_wnkC",
        "outputId": "dd3b0b80-8f39-43cc-f104-072cf76a47e9"
      },
      "outputs": [
        {
          "name": "stdout",
          "output_type": "stream",
          "text": [
            "       Frame Number Gender   Emotion  Year    Movie Name\n",
            "0                28  woman     happy  2014  dedh_ishqiya\n",
            "1                62  woman     happy  2014  dedh_ishqiya\n",
            "2                60    man     angry  2014  dedh_ishqiya\n",
            "3                60    man       sad  2014  dedh_ishqiya\n",
            "4                60    man     angry  2014  dedh_ishqiya\n",
            "...             ...    ...       ...   ...           ...\n",
            "32192            18    man     happy  2016   housefull_3\n",
            "32193            25    man   neutral  2016   housefull_3\n",
            "32194            25    man   neutral  2016   housefull_3\n",
            "32195            25    man     happy  2016   housefull_3\n",
            "32196            31    man  surprise  2016   housefull_3\n",
            "\n",
            "[32197 rows x 5 columns]\n"
          ]
        }
      ],
      "source": [
        "trail.rename(columns = {'frame_number':'Frame Number',\n",
        "                       'gender':'Gender',\n",
        "                        'emotion':'Emotion',\n",
        "                        'year':'Year',\n",
        "                        'movie_name':'Movie Name'},\n",
        "            inplace = True)\n",
        "print(trail)"
      ]
    },
    {
      "cell_type": "code",
      "execution_count": 87,
      "metadata": {},
      "outputs": [],
      "source": [
        "import nltk\n",
        "from nltk.tokenize import word_tokenize\n",
        "from nltk.corpus  import sentiwordnet as swn \n",
        "from textblob import TextBlob"
      ]
    },
    {
      "cell_type": "code",
      "execution_count": 88,
      "metadata": {},
      "outputs": [],
      "source": [
        "def pos_tag_text(text):\n",
        "    tokens = word_tokenize(text)\n",
        "    return nltk.pos_tag(tokens)"
      ]
    },
    {
      "cell_type": "code",
      "execution_count": 89,
      "metadata": {},
      "outputs": [],
      "source": [
        "def classify_token_sentiment(token):\n",
        "    blob = TextBlob(token)\n",
        "    sentiment = blob.sentiment.polarity\n",
        "    \n",
        "    if sentiment > 0:\n",
        "        return 'positive'\n",
        "    elif sentiment < 0:\n",
        "        return 'negative'\n",
        "    else:\n",
        "        return 'neutral'"
      ]
    },
    {
      "cell_type": "code",
      "execution_count": 90,
      "metadata": {},
      "outputs": [],
      "source": [
        "\n",
        "def analyze_sentiment(text):\n",
        "    blob = TextBlob(text)\n",
        "    return blob.sentiment.polarity"
      ]
    },
    {
      "cell_type": "code",
      "execution_count": 91,
      "metadata": {},
      "outputs": [
        {
          "name": "stdout",
          "output_type": "stream",
          "text": [
            "   Year  Positive_Adj_Freq  Negative_Adj_Freq  Neutral_Adj_Freq  \\\n",
            "0  1970                  1                  0                 0   \n",
            "1  1970                  0                  0                 1   \n",
            "2  1970                  0                  0                 1   \n",
            "3  1970                  1                  0                 0   \n",
            "4  1970                  1                  0                 0   \n",
            "\n",
            "   Adj_Diversity  Adj_Polarity  \n",
            "0            1.0           0.1  \n",
            "1            1.0           0.0  \n",
            "2            1.0           0.0  \n",
            "3            1.0           0.2  \n",
            "4            1.0           0.1  \n",
            "   Year  Positive_Verb_Freq  Negative_Verb_Freq  Neutral_Verb_Freq  \\\n",
            "0  1970                   0                   0                  1   \n",
            "1  1970                   0                   0                  1   \n",
            "2  1970                   0                   0                  1   \n",
            "3  1970                   0                   0                  2   \n",
            "4  1970                   0                   0                  2   \n",
            "\n",
            "   Verb_Diversity  Verb_Polarity  \n",
            "0             1.0            0.0  \n",
            "1             1.0            0.0  \n",
            "2             1.0            0.0  \n",
            "3             1.0            0.0  \n",
            "4             1.0            0.0  \n",
            "   Year  Positive_Adjv_Freq  Negative_Adjv_Freq  Neutral_Adjv_Freq  \\\n",
            "0  1970                   1                   0                  1   \n",
            "1  1970                   0                   0                  1   \n",
            "2  1970                   0                   0                  1   \n",
            "3  1970                   0                   0                  2   \n",
            "4  1970                   0                   0                  3   \n",
            "\n",
            "   Adjv_Diversity  Adjv_Polarity  \n",
            "0             1.0            0.1  \n",
            "1             1.0            0.0  \n",
            "2             1.0            0.0  \n",
            "3             1.0            0.0  \n",
            "4             1.0            0.0  \n"
          ]
        }
      ],
      "source": [
        "def extract_features(df, category):\n",
        "    feature_data = []\n",
        "    \n",
        "    for idx, row in df.iterrows():\n",
        "        tokens = []\n",
        "        for col in df.columns[1:]:\n",
        "            value = row[col]\n",
        "            if isinstance(value, str):\n",
        "                tokens.extend(value.split(','))\n",
        "        \n",
        "        token_sentiments = [classify_token_sentiment(token) for token in tokens]\n",
        "        token_freq = {sentiment: token_sentiments.count(sentiment) for sentiment in ['positive', 'negative', 'neutral']}\n",
        "        \n",
        "        token_diversity = len(set(tokens)) / len(tokens) if tokens else 0\n",
        "        \n",
        "        token_polarity = analyze_sentiment(' '.join(tokens))\n",
        "        \n",
        "        features_dict = {\n",
        "            'Year': row.get('Year', None),  # Handle missing 'Year' column\n",
        "            f'Positive_{category}_Freq': token_freq.get('positive', 0),\n",
        "            f'Negative_{category}_Freq': token_freq.get('negative', 0),\n",
        "            f'Neutral_{category}_Freq': token_freq.get('neutral', 0),\n",
        "            f'{category}_Diversity': token_diversity,\n",
        "            f'{category}_Polarity': token_polarity\n",
        "        }\n",
        "        \n",
        "        feature_data.append(features_dict)\n",
        "\n",
        "    feature_df = pd.DataFrame(feature_data)\n",
        "    \n",
        "    return feature_df\n",
        "\n",
        "# Example usage\n",
        "try:\n",
        "    # Assuming f_adj, f_verb, and f_adjv are pre-defined DataFrames\n",
        "    f_adj_features = extract_features(f_adj, 'Adj')\n",
        "    f_verb_features = extract_features(f_verb, 'Verb')\n",
        "    f_adjv_features = extract_features(f_adjv, 'Adjv')\n",
        "    \n",
        "    # You can now use the feature DataFrames as needed\n",
        "    print(f_adj_features.head())\n",
        "    print(f_verb_features.head())\n",
        "    print(f_adjv_features.head())\n",
        "except Exception as e:\n",
        "    print(f\"An error occurred: {e}\")"
      ]
    },
    {
      "cell_type": "code",
      "execution_count": 92,
      "metadata": {},
      "outputs": [
        {
          "name": "stdout",
          "output_type": "stream",
          "text": [
            "Features extracted from f_adj:\n",
            "   Year  Positive_Adj_Freq  Negative_Adj_Freq  Neutral_Adj_Freq  \\\n",
            "0  1970                  1                  0                 0   \n",
            "1  1970                  0                  0                 1   \n",
            "2  1970                  0                  0                 1   \n",
            "3  1970                  1                  0                 0   \n",
            "4  1970                  1                  0                 0   \n",
            "5  1970                  1                  0                 0   \n",
            "6  1970                  0                  0                 1   \n",
            "7  1970                  0                  1                 0   \n",
            "8  1970                  1                  0                 0   \n",
            "9  1970                  2                  0                 0   \n",
            "\n",
            "   Adj_Diversity  Adj_Polarity  \n",
            "0            1.0         0.100  \n",
            "1            1.0         0.000  \n",
            "2            1.0         0.000  \n",
            "3            1.0         0.200  \n",
            "4            1.0         0.100  \n",
            "5            1.0         0.600  \n",
            "6            1.0         0.000  \n",
            "7            1.0        -0.400  \n",
            "8            1.0         0.375  \n",
            "9            1.0         0.450  \n"
          ]
        }
      ],
      "source": [
        "print(\"Features extracted from f_adj:\")\n",
        "print(f_adj_features.head(10))"
      ]
    },
    {
      "cell_type": "code",
      "execution_count": 93,
      "metadata": {},
      "outputs": [
        {
          "name": "stdout",
          "output_type": "stream",
          "text": [
            "\n",
            "Features extracted from f_verb:\n",
            "   Year  Positive_Verb_Freq  Negative_Verb_Freq  Neutral_Verb_Freq  \\\n",
            "0  1970                   0                   0                  1   \n",
            "1  1970                   0                   0                  1   \n",
            "2  1970                   0                   0                  1   \n",
            "3  1970                   0                   0                  2   \n",
            "4  1970                   0                   0                  2   \n",
            "\n",
            "   Verb_Diversity  Verb_Polarity  \n",
            "0             1.0            0.0  \n",
            "1             1.0            0.0  \n",
            "2             1.0            0.0  \n",
            "3             1.0            0.0  \n",
            "4             1.0            0.0  \n"
          ]
        }
      ],
      "source": [
        "print(\"\\nFeatures extracted from f_verb:\")\n",
        "print(f_verb_features.head())"
      ]
    },
    {
      "cell_type": "code",
      "execution_count": 94,
      "metadata": {},
      "outputs": [
        {
          "name": "stdout",
          "output_type": "stream",
          "text": [
            "\n",
            "Features extracted from f_adjv:\n",
            "   Year  Positive_Adjv_Freq  Negative_Adjv_Freq  Neutral_Adjv_Freq  \\\n",
            "0  1970                   1                   0                  1   \n",
            "1  1970                   0                   0                  1   \n",
            "2  1970                   0                   0                  1   \n",
            "3  1970                   0                   0                  2   \n",
            "4  1970                   0                   0                  3   \n",
            "\n",
            "   Adjv_Diversity  Adjv_Polarity  \n",
            "0             1.0            0.1  \n",
            "1             1.0            0.0  \n",
            "2             1.0            0.0  \n",
            "3             1.0            0.0  \n",
            "4             1.0            0.0  \n"
          ]
        }
      ],
      "source": [
        "print(\"\\nFeatures extracted from f_adjv:\")\n",
        "print(f_adjv_features.head())"
      ]
    },
    {
      "cell_type": "code",
      "execution_count": 95,
      "metadata": {},
      "outputs": [
        {
          "name": "stdout",
          "output_type": "stream",
          "text": [
            "Summary Statistics:\n",
            "              Year  Positive_Adj_Freq  Negative_Adj_Freq  Neutral_Adj_Freq  \\\n",
            "count  1237.000000        1237.000000        1237.000000       1237.000000   \n",
            "mean   1997.261924           0.527082           0.172191          0.499596   \n",
            "std      13.505397           0.624696           0.392407          0.596138   \n",
            "min    1970.000000           0.000000           0.000000          0.000000   \n",
            "25%    1986.000000           0.000000           0.000000          0.000000   \n",
            "50%    2000.000000           0.000000           0.000000          0.000000   \n",
            "75%    2009.000000           1.000000           0.000000          1.000000   \n",
            "max    2017.000000           4.000000           2.000000          3.000000   \n",
            "\n",
            "       Adj_Diversity  Adj_Polarity  \n",
            "count         1237.0   1237.000000  \n",
            "mean             1.0      0.109787  \n",
            "std              0.0      0.318555  \n",
            "min              1.0     -1.000000  \n",
            "25%              1.0      0.000000  \n",
            "50%              1.0      0.000000  \n",
            "75%              1.0      0.250000  \n",
            "max              1.0      1.000000  \n"
          ]
        }
      ],
      "source": [
        "def perform_eda(df):\n",
        "    # Summary Statistics\n",
        "    summary_stats = df.describe()\n",
        "    print(\"Summary Statistics:\")\n",
        "    print(summary_stats)\n",
        "\n",
        "    categorical_cols = df.select_dtypes(include=['object']).columns\n",
        "    for col in categorical_cols:\n",
        "        value_counts = df[col].value_counts()\n",
        "        plt.figure(figsize=(8, 6))\n",
        "        value_counts.plot(kind='bar', color='salmon')\n",
        "        plt.title(f'Bar Chart of {col}')\n",
        "        plt.xlabel(col)\n",
        "        plt.ylabel('Frequency')\n",
        "        plt.xticks(rotation=45)\n",
        "        plt.grid(True)\n",
        "        plt.show()\n",
        "\n",
        "perform_eda(f_adj_features)"
      ]
    },
    {
      "cell_type": "code",
      "execution_count": 96,
      "metadata": {},
      "outputs": [
        {
          "name": "stdout",
          "output_type": "stream",
          "text": [
            "Summary Statistics:\n",
            "              Year  Positive_Verb_Freq  Negative_Verb_Freq  Neutral_Verb_Freq  \\\n",
            "count  3141.000000         3141.000000         3141.000000        3141.000000   \n",
            "mean   1998.459089            0.042025            0.044890           2.301815   \n",
            "std      13.064563            0.203827            0.208628           2.173661   \n",
            "min    1970.000000            0.000000            0.000000           0.000000   \n",
            "25%    1988.000000            0.000000            0.000000           1.000000   \n",
            "50%    2002.000000            0.000000            0.000000           1.000000   \n",
            "75%    2009.000000            0.000000            0.000000           3.000000   \n",
            "max    2017.000000            2.000000            2.000000          22.000000   \n",
            "\n",
            "       Verb_Diversity  Verb_Polarity  \n",
            "count          3141.0    3141.000000  \n",
            "mean              1.0       0.001425  \n",
            "std               0.0       0.068797  \n",
            "min               1.0      -0.875000  \n",
            "25%               1.0       0.000000  \n",
            "50%               1.0       0.000000  \n",
            "75%               1.0       0.000000  \n",
            "max               1.0       0.950000  \n"
          ]
        }
      ],
      "source": [
        "perform_eda(f_verb_features)"
      ]
    },
    {
      "cell_type": "code",
      "execution_count": 97,
      "metadata": {},
      "outputs": [
        {
          "name": "stdout",
          "output_type": "stream",
          "text": [
            "Summary Statistics:\n",
            "              Year  Positive_Adjv_Freq  Negative_Adjv_Freq  Neutral_Adjv_Freq  \\\n",
            "count  1080.000000         1080.000000         1080.000000        1080.000000   \n",
            "mean   1995.516667            0.138889            0.062037           2.091667   \n",
            "std      13.390814            0.393608            0.259827           1.816903   \n",
            "min    1970.000000            0.000000            0.000000           0.000000   \n",
            "25%    1983.000000            0.000000            0.000000           1.000000   \n",
            "50%    1998.000000            0.000000            0.000000           1.000000   \n",
            "75%    2007.000000            0.000000            0.000000           2.000000   \n",
            "max    2015.000000            3.000000            2.000000          12.000000   \n",
            "\n",
            "       Adjv_Diversity  Adjv_Polarity  \n",
            "count          1080.0    1080.000000  \n",
            "mean              1.0       0.022802  \n",
            "std               0.0       0.138190  \n",
            "min               1.0      -0.800000  \n",
            "25%               1.0       0.000000  \n",
            "50%               1.0       0.000000  \n",
            "75%               1.0       0.000000  \n",
            "max               1.0       0.900000  \n"
          ]
        }
      ],
      "source": [
        "perform_eda(f_adjv_features)"
      ]
    },
    {
      "cell_type": "code",
      "execution_count": 98,
      "metadata": {},
      "outputs": [
        {
          "name": "stdout",
          "output_type": "stream",
          "text": [
            "<class 'pandas.core.frame.DataFrame'>\n",
            "RangeIndex: 34728 entries, 0 to 34727\n",
            "Data columns (total 2 columns):\n",
            " #   Column      Non-Null Count  Dtype \n",
            "---  ------      --------------  ----- \n",
            " 0   Movie Name  34728 non-null  object\n",
            " 1   Coref Plot  34728 non-null  object\n",
            "dtypes: object(2)\n",
            "memory usage: 542.8+ KB\n",
            "None\n",
            "       Movie Name                                         Coref Plot\n",
            "0  Aan Milo Sajna   Widowed and ailing Savitri Choudhury lives a ...\n",
            "1  Aan Milo Sajna   Savitri knows that Anil is only waiting for S...\n",
            "2  Aan Milo Sajna   The Diwan convinces Anil to mend Anil ways  g...\n",
            "3  Aan Milo Sajna   Shortly thereafter Anil does appear to have m...\n",
            "4  Aan Milo Sajna   Deepali moves in the mansion  looks after Sav...\n"
          ]
        }
      ],
      "source": [
        "coref_plot = pd.read_csv('/Users/birajlayek1230/Desktop/Bollywood-Movie-Analysis/Analysis1/used-data/coref_plot.csv')\n",
        "\n",
        "print(coref_plot.info())\n",
        "print(coref_plot.head())"
      ]
    },
    {
      "cell_type": "code",
      "execution_count": 99,
      "metadata": {},
      "outputs": [
        {
          "name": "stderr",
          "output_type": "stream",
          "text": [
            "[nltk_data] Downloading package punkt to\n",
            "[nltk_data]     /Users/birajlayek1230/nltk_data...\n",
            "[nltk_data]   Package punkt is already up-to-date!\n",
            "[nltk_data] Downloading package stopwords to\n",
            "[nltk_data]     /Users/birajlayek1230/nltk_data...\n",
            "[nltk_data]   Package stopwords is already up-to-date!\n",
            "[nltk_data] Downloading package wordnet to\n",
            "[nltk_data]     /Users/birajlayek1230/nltk_data...\n",
            "[nltk_data]   Package wordnet is already up-to-date!\n"
          ]
        },
        {
          "data": {
            "text/plain": [
              "True"
            ]
          },
          "execution_count": 99,
          "metadata": {},
          "output_type": "execute_result"
        }
      ],
      "source": [
        "nltk.download('punkt')\n",
        "nltk.download('stopwords')\n",
        "nltk.download('wordnet')"
      ]
    },
    {
      "cell_type": "code",
      "execution_count": 100,
      "metadata": {},
      "outputs": [],
      "source": [
        "from nltk.tokenize import word_tokenize\n",
        "from nltk.corpus import stopwords\n",
        "from nltk.stem import WordNetLemmatizer\n",
        "import string\n",
        "\n",
        "coref_plot['Cleaned_Plot'] = coref_plot['Coref Plot'].apply(lambda x: x.translate(str.maketrans('', '', string.punctuation)).lower())\n",
        "\n",
        "coref_plot['Tokenized_Plot'] = coref_plot['Cleaned_Plot'].apply(word_tokenize)\n",
        "\n",
        "stop_words = set(stopwords.words('english'))\n",
        "coref_plot['Tokenized_Plot'] = coref_plot['Tokenized_Plot'].apply(lambda x: [word for word in x if word not in stop_words])\n",
        "\n",
        "lemmatizer = WordNetLemmatizer()\n",
        "coref_plot['Lemmatized_Plot'] = coref_plot['Tokenized_Plot'].apply(lambda x: [lemmatizer.lemmatize(word) for word in x])\n",
        "\n",
        "coref_plot.to_csv('clean_coref_plot.csv', index=False)"
      ]
    },
    {
      "cell_type": "code",
      "execution_count": 101,
      "metadata": {},
      "outputs": [
        {
          "data": {
            "text/html": [
              "<div>\n",
              "<style scoped>\n",
              "    .dataframe tbody tr th:only-of-type {\n",
              "        vertical-align: middle;\n",
              "    }\n",
              "\n",
              "    .dataframe tbody tr th {\n",
              "        vertical-align: top;\n",
              "    }\n",
              "\n",
              "    .dataframe thead th {\n",
              "        text-align: right;\n",
              "    }\n",
              "</style>\n",
              "<table border=\"1\" class=\"dataframe\">\n",
              "  <thead>\n",
              "    <tr style=\"text-align: right;\">\n",
              "      <th></th>\n",
              "      <th>Movie Name</th>\n",
              "      <th>Coref Plot</th>\n",
              "      <th>Cleaned_Plot</th>\n",
              "      <th>Tokenized_Plot</th>\n",
              "      <th>Lemmatized_Plot</th>\n",
              "    </tr>\n",
              "  </thead>\n",
              "  <tbody>\n",
              "    <tr>\n",
              "      <th>0</th>\n",
              "      <td>Aan Milo Sajna</td>\n",
              "      <td>Widowed and ailing Savitri Choudhury lives a ...</td>\n",
              "      <td>widowed and ailing savitri choudhury lives a ...</td>\n",
              "      <td>['widowed', 'ailing', 'savitri', 'choudhury', ...</td>\n",
              "      <td>['widowed', 'ailing', 'savitri', 'choudhury', ...</td>\n",
              "    </tr>\n",
              "    <tr>\n",
              "      <th>1</th>\n",
              "      <td>Aan Milo Sajna</td>\n",
              "      <td>Savitri knows that Anil is only waiting for S...</td>\n",
              "      <td>savitri knows that anil is only waiting for s...</td>\n",
              "      <td>['savitri', 'knows', 'anil', 'waiting', 'savit...</td>\n",
              "      <td>['savitri', 'know', 'anil', 'waiting', 'savitr...</td>\n",
              "    </tr>\n",
              "    <tr>\n",
              "      <th>2</th>\n",
              "      <td>Aan Milo Sajna</td>\n",
              "      <td>The Diwan convinces Anil to mend Anil ways  g...</td>\n",
              "      <td>the diwan convinces anil to mend anil ways  g...</td>\n",
              "      <td>['diwan', 'convinces', 'anil', 'mend', 'anil',...</td>\n",
              "      <td>['diwan', 'convinces', 'anil', 'mend', 'anil',...</td>\n",
              "    </tr>\n",
              "    <tr>\n",
              "      <th>3</th>\n",
              "      <td>Aan Milo Sajna</td>\n",
              "      <td>Shortly thereafter Anil does appear to have m...</td>\n",
              "      <td>shortly thereafter anil does appear to have m...</td>\n",
              "      <td>['shortly', 'thereafter', 'anil', 'appear', 'm...</td>\n",
              "      <td>['shortly', 'thereafter', 'anil', 'appear', 'm...</td>\n",
              "    </tr>\n",
              "    <tr>\n",
              "      <th>4</th>\n",
              "      <td>Aan Milo Sajna</td>\n",
              "      <td>Deepali moves in the mansion  looks after Sav...</td>\n",
              "      <td>deepali moves in the mansion  looks after sav...</td>\n",
              "      <td>['deepali', 'moves', 'mansion', 'looks', 'savi...</td>\n",
              "      <td>['deepali', 'move', 'mansion', 'look', 'savitr...</td>\n",
              "    </tr>\n",
              "    <tr>\n",
              "      <th>...</th>\n",
              "      <td>...</td>\n",
              "      <td>...</td>\n",
              "      <td>...</td>\n",
              "      <td>...</td>\n",
              "      <td>...</td>\n",
              "    </tr>\n",
              "    <tr>\n",
              "      <th>34723</th>\n",
              "      <td>Jo Hum Chahein</td>\n",
              "      <td>Rohan discovers Amrita and Vikram were just u...</td>\n",
              "      <td>rohan discovers amrita and vikram were just u...</td>\n",
              "      <td>['rohan', 'discovers', 'amrita', 'vikram', 'us...</td>\n",
              "      <td>['rohan', 'discovers', 'amrita', 'vikram', 'us...</td>\n",
              "    </tr>\n",
              "    <tr>\n",
              "      <th>34724</th>\n",
              "      <td>Jo Hum Chahein</td>\n",
              "      <td>Rohan apologizes to Rohan father for all Roha...</td>\n",
              "      <td>rohan apologizes to rohan father for all roha...</td>\n",
              "      <td>['rohan', 'apologizes', 'rohan', 'father', 'ro...</td>\n",
              "      <td>['rohan', 'apologizes', 'rohan', 'father', 'ro...</td>\n",
              "    </tr>\n",
              "    <tr>\n",
              "      <th>34725</th>\n",
              "      <td>Jo Hum Chahein</td>\n",
              "      <td>Neha was n't ready for a child and was only h...</td>\n",
              "      <td>neha was nt ready for a child and was only ha...</td>\n",
              "      <td>['neha', 'nt', 'ready', 'child', 'hurt', 'roha...</td>\n",
              "      <td>['neha', 'nt', 'ready', 'child', 'hurt', 'roha...</td>\n",
              "    </tr>\n",
              "    <tr>\n",
              "      <th>34726</th>\n",
              "      <td>Jo Hum Chahein</td>\n",
              "      <td>Rohan is shattered  Neha apologizes and asks ...</td>\n",
              "      <td>rohan is shattered  neha apologizes and asks ...</td>\n",
              "      <td>['rohan', 'shattered', 'neha', 'apologizes', '...</td>\n",
              "      <td>['rohan', 'shattered', 'neha', 'apologizes', '...</td>\n",
              "    </tr>\n",
              "    <tr>\n",
              "      <th>34727</th>\n",
              "      <td>Jo Hum Chahein</td>\n",
              "      <td>Heartbroken  Heartbroken embrace and accept e...</td>\n",
              "      <td>heartbroken  heartbroken embrace and accept e...</td>\n",
              "      <td>['heartbroken', 'heartbroken', 'embrace', 'acc...</td>\n",
              "      <td>['heartbroken', 'heartbroken', 'embrace', 'acc...</td>\n",
              "    </tr>\n",
              "  </tbody>\n",
              "</table>\n",
              "<p>34728 rows × 5 columns</p>\n",
              "</div>"
            ],
            "text/plain": [
              "           Movie Name                                         Coref Plot  \\\n",
              "0      Aan Milo Sajna   Widowed and ailing Savitri Choudhury lives a ...   \n",
              "1      Aan Milo Sajna   Savitri knows that Anil is only waiting for S...   \n",
              "2      Aan Milo Sajna   The Diwan convinces Anil to mend Anil ways  g...   \n",
              "3      Aan Milo Sajna   Shortly thereafter Anil does appear to have m...   \n",
              "4      Aan Milo Sajna   Deepali moves in the mansion  looks after Sav...   \n",
              "...               ...                                                ...   \n",
              "34723  Jo Hum Chahein   Rohan discovers Amrita and Vikram were just u...   \n",
              "34724  Jo Hum Chahein   Rohan apologizes to Rohan father for all Roha...   \n",
              "34725  Jo Hum Chahein   Neha was n't ready for a child and was only h...   \n",
              "34726  Jo Hum Chahein   Rohan is shattered  Neha apologizes and asks ...   \n",
              "34727  Jo Hum Chahein   Heartbroken  Heartbroken embrace and accept e...   \n",
              "\n",
              "                                            Cleaned_Plot  \\\n",
              "0       widowed and ailing savitri choudhury lives a ...   \n",
              "1       savitri knows that anil is only waiting for s...   \n",
              "2       the diwan convinces anil to mend anil ways  g...   \n",
              "3       shortly thereafter anil does appear to have m...   \n",
              "4       deepali moves in the mansion  looks after sav...   \n",
              "...                                                  ...   \n",
              "34723   rohan discovers amrita and vikram were just u...   \n",
              "34724   rohan apologizes to rohan father for all roha...   \n",
              "34725   neha was nt ready for a child and was only ha...   \n",
              "34726   rohan is shattered  neha apologizes and asks ...   \n",
              "34727   heartbroken  heartbroken embrace and accept e...   \n",
              "\n",
              "                                          Tokenized_Plot  \\\n",
              "0      ['widowed', 'ailing', 'savitri', 'choudhury', ...   \n",
              "1      ['savitri', 'knows', 'anil', 'waiting', 'savit...   \n",
              "2      ['diwan', 'convinces', 'anil', 'mend', 'anil',...   \n",
              "3      ['shortly', 'thereafter', 'anil', 'appear', 'm...   \n",
              "4      ['deepali', 'moves', 'mansion', 'looks', 'savi...   \n",
              "...                                                  ...   \n",
              "34723  ['rohan', 'discovers', 'amrita', 'vikram', 'us...   \n",
              "34724  ['rohan', 'apologizes', 'rohan', 'father', 'ro...   \n",
              "34725  ['neha', 'nt', 'ready', 'child', 'hurt', 'roha...   \n",
              "34726  ['rohan', 'shattered', 'neha', 'apologizes', '...   \n",
              "34727  ['heartbroken', 'heartbroken', 'embrace', 'acc...   \n",
              "\n",
              "                                         Lemmatized_Plot  \n",
              "0      ['widowed', 'ailing', 'savitri', 'choudhury', ...  \n",
              "1      ['savitri', 'know', 'anil', 'waiting', 'savitr...  \n",
              "2      ['diwan', 'convinces', 'anil', 'mend', 'anil',...  \n",
              "3      ['shortly', 'thereafter', 'anil', 'appear', 'm...  \n",
              "4      ['deepali', 'move', 'mansion', 'look', 'savitr...  \n",
              "...                                                  ...  \n",
              "34723  ['rohan', 'discovers', 'amrita', 'vikram', 'us...  \n",
              "34724  ['rohan', 'apologizes', 'rohan', 'father', 'ro...  \n",
              "34725  ['neha', 'nt', 'ready', 'child', 'hurt', 'roha...  \n",
              "34726  ['rohan', 'shattered', 'neha', 'apologizes', '...  \n",
              "34727  ['heartbroken', 'heartbroken', 'embrace', 'acc...  \n",
              "\n",
              "[34728 rows x 5 columns]"
            ]
          },
          "execution_count": 101,
          "metadata": {},
          "output_type": "execute_result"
        }
      ],
      "source": [
        "cleaned_coref = pd.read_csv('/Users/birajlayek1230/Desktop/Bollywood-Movie-Analysis/Analysis1/new-data/cleaned_coref_plot.csv')\n",
        "cleaned_coref"
      ]
    },
    {
      "cell_type": "code",
      "execution_count": 102,
      "metadata": {},
      "outputs": [
        {
          "data": {
            "text/html": [
              "<div>\n",
              "<style scoped>\n",
              "    .dataframe tbody tr th:only-of-type {\n",
              "        vertical-align: middle;\n",
              "    }\n",
              "\n",
              "    .dataframe tbody tr th {\n",
              "        vertical-align: top;\n",
              "    }\n",
              "\n",
              "    .dataframe thead th {\n",
              "        text-align: right;\n",
              "    }\n",
              "</style>\n",
              "<table border=\"1\" class=\"dataframe\">\n",
              "  <thead>\n",
              "    <tr style=\"text-align: right;\">\n",
              "      <th></th>\n",
              "      <th>Movie Name</th>\n",
              "      <th>Coref Plot</th>\n",
              "      <th>Cleaned_Plot</th>\n",
              "      <th>Tokenized_Plot</th>\n",
              "      <th>Lemmatized_Plot</th>\n",
              "      <th>Sentiment</th>\n",
              "    </tr>\n",
              "  </thead>\n",
              "  <tbody>\n",
              "    <tr>\n",
              "      <th>0</th>\n",
              "      <td>Aan Milo Sajna</td>\n",
              "      <td>Widowed and ailing Savitri Choudhury lives a ...</td>\n",
              "      <td>widowed and ailing savitri choudhury lives a ...</td>\n",
              "      <td>[widowed, ailing, savitri, choudhury, lives, w...</td>\n",
              "      <td>[widowed, ailing, savitri, choudhury, life, we...</td>\n",
              "      <td>positive</td>\n",
              "    </tr>\n",
              "    <tr>\n",
              "      <th>1</th>\n",
              "      <td>Aan Milo Sajna</td>\n",
              "      <td>Savitri knows that Anil is only waiting for S...</td>\n",
              "      <td>savitri knows that anil is only waiting for s...</td>\n",
              "      <td>[savitri, knows, anil, waiting, savitri, die, ...</td>\n",
              "      <td>[savitri, know, anil, waiting, savitri, die, a...</td>\n",
              "      <td>neutral</td>\n",
              "    </tr>\n",
              "    <tr>\n",
              "      <th>2</th>\n",
              "      <td>Aan Milo Sajna</td>\n",
              "      <td>The Diwan convinces Anil to mend Anil ways  g...</td>\n",
              "      <td>the diwan convinces anil to mend anil ways  g...</td>\n",
              "      <td>[diwan, convinces, anil, mend, anil, ways, get...</td>\n",
              "      <td>[diwan, convinces, anil, mend, anil, way, get,...</td>\n",
              "      <td>positive</td>\n",
              "    </tr>\n",
              "    <tr>\n",
              "      <th>3</th>\n",
              "      <td>Aan Milo Sajna</td>\n",
              "      <td>Shortly thereafter Anil does appear to have m...</td>\n",
              "      <td>shortly thereafter anil does appear to have m...</td>\n",
              "      <td>[shortly, thereafter, anil, appear, mended, an...</td>\n",
              "      <td>[shortly, thereafter, anil, appear, mended, an...</td>\n",
              "      <td>positive</td>\n",
              "    </tr>\n",
              "    <tr>\n",
              "      <th>4</th>\n",
              "      <td>Aan Milo Sajna</td>\n",
              "      <td>Deepali moves in the mansion  looks after Sav...</td>\n",
              "      <td>deepali moves in the mansion  looks after sav...</td>\n",
              "      <td>[deepali, moves, mansion, looks, savitri, much...</td>\n",
              "      <td>[deepali, move, mansion, look, savitri, much, ...</td>\n",
              "      <td>positive</td>\n",
              "    </tr>\n",
              "    <tr>\n",
              "      <th>...</th>\n",
              "      <td>...</td>\n",
              "      <td>...</td>\n",
              "      <td>...</td>\n",
              "      <td>...</td>\n",
              "      <td>...</td>\n",
              "      <td>...</td>\n",
              "    </tr>\n",
              "    <tr>\n",
              "      <th>34723</th>\n",
              "      <td>Jo Hum Chahein</td>\n",
              "      <td>Rohan discovers Amrita and Vikram were just u...</td>\n",
              "      <td>rohan discovers amrita and vikram were just u...</td>\n",
              "      <td>[rohan, discovers, amrita, vikram, using, amri...</td>\n",
              "      <td>[rohan, discovers, amrita, vikram, using, amri...</td>\n",
              "      <td>negative</td>\n",
              "    </tr>\n",
              "    <tr>\n",
              "      <th>34724</th>\n",
              "      <td>Jo Hum Chahein</td>\n",
              "      <td>Rohan apologizes to Rohan father for all Roha...</td>\n",
              "      <td>rohan apologizes to rohan father for all roha...</td>\n",
              "      <td>[rohan, apologizes, rohan, father, rohan, wron...</td>\n",
              "      <td>[rohan, apologizes, rohan, father, rohan, wron...</td>\n",
              "      <td>neutral</td>\n",
              "    </tr>\n",
              "    <tr>\n",
              "      <th>34725</th>\n",
              "      <td>Jo Hum Chahein</td>\n",
              "      <td>Neha was n't ready for a child and was only h...</td>\n",
              "      <td>neha was nt ready for a child and was only ha...</td>\n",
              "      <td>[neha, nt, ready, child, hurt, rohan, keeping,...</td>\n",
              "      <td>[neha, nt, ready, child, hurt, rohan, keeping,...</td>\n",
              "      <td>positive</td>\n",
              "    </tr>\n",
              "    <tr>\n",
              "      <th>34726</th>\n",
              "      <td>Jo Hum Chahein</td>\n",
              "      <td>Rohan is shattered  Neha apologizes and asks ...</td>\n",
              "      <td>rohan is shattered  neha apologizes and asks ...</td>\n",
              "      <td>[rohan, shattered, neha, apologizes, asks, roh...</td>\n",
              "      <td>[rohan, shattered, neha, apologizes, asks, roh...</td>\n",
              "      <td>neutral</td>\n",
              "    </tr>\n",
              "    <tr>\n",
              "      <th>34727</th>\n",
              "      <td>Jo Hum Chahein</td>\n",
              "      <td>Heartbroken  Heartbroken embrace and accept e...</td>\n",
              "      <td>heartbroken  heartbroken embrace and accept e...</td>\n",
              "      <td>[heartbroken, heartbroken, embrace, accept, he...</td>\n",
              "      <td>[heartbroken, heartbroken, embrace, accept, he...</td>\n",
              "      <td>negative</td>\n",
              "    </tr>\n",
              "  </tbody>\n",
              "</table>\n",
              "<p>34728 rows × 6 columns</p>\n",
              "</div>"
            ],
            "text/plain": [
              "           Movie Name                                         Coref Plot  \\\n",
              "0      Aan Milo Sajna   Widowed and ailing Savitri Choudhury lives a ...   \n",
              "1      Aan Milo Sajna   Savitri knows that Anil is only waiting for S...   \n",
              "2      Aan Milo Sajna   The Diwan convinces Anil to mend Anil ways  g...   \n",
              "3      Aan Milo Sajna   Shortly thereafter Anil does appear to have m...   \n",
              "4      Aan Milo Sajna   Deepali moves in the mansion  looks after Sav...   \n",
              "...               ...                                                ...   \n",
              "34723  Jo Hum Chahein   Rohan discovers Amrita and Vikram were just u...   \n",
              "34724  Jo Hum Chahein   Rohan apologizes to Rohan father for all Roha...   \n",
              "34725  Jo Hum Chahein   Neha was n't ready for a child and was only h...   \n",
              "34726  Jo Hum Chahein   Rohan is shattered  Neha apologizes and asks ...   \n",
              "34727  Jo Hum Chahein   Heartbroken  Heartbroken embrace and accept e...   \n",
              "\n",
              "                                            Cleaned_Plot  \\\n",
              "0       widowed and ailing savitri choudhury lives a ...   \n",
              "1       savitri knows that anil is only waiting for s...   \n",
              "2       the diwan convinces anil to mend anil ways  g...   \n",
              "3       shortly thereafter anil does appear to have m...   \n",
              "4       deepali moves in the mansion  looks after sav...   \n",
              "...                                                  ...   \n",
              "34723   rohan discovers amrita and vikram were just u...   \n",
              "34724   rohan apologizes to rohan father for all roha...   \n",
              "34725   neha was nt ready for a child and was only ha...   \n",
              "34726   rohan is shattered  neha apologizes and asks ...   \n",
              "34727   heartbroken  heartbroken embrace and accept e...   \n",
              "\n",
              "                                          Tokenized_Plot  \\\n",
              "0      [widowed, ailing, savitri, choudhury, lives, w...   \n",
              "1      [savitri, knows, anil, waiting, savitri, die, ...   \n",
              "2      [diwan, convinces, anil, mend, anil, ways, get...   \n",
              "3      [shortly, thereafter, anil, appear, mended, an...   \n",
              "4      [deepali, moves, mansion, looks, savitri, much...   \n",
              "...                                                  ...   \n",
              "34723  [rohan, discovers, amrita, vikram, using, amri...   \n",
              "34724  [rohan, apologizes, rohan, father, rohan, wron...   \n",
              "34725  [neha, nt, ready, child, hurt, rohan, keeping,...   \n",
              "34726  [rohan, shattered, neha, apologizes, asks, roh...   \n",
              "34727  [heartbroken, heartbroken, embrace, accept, he...   \n",
              "\n",
              "                                         Lemmatized_Plot Sentiment  \n",
              "0      [widowed, ailing, savitri, choudhury, life, we...  positive  \n",
              "1      [savitri, know, anil, waiting, savitri, die, a...   neutral  \n",
              "2      [diwan, convinces, anil, mend, anil, way, get,...  positive  \n",
              "3      [shortly, thereafter, anil, appear, mended, an...  positive  \n",
              "4      [deepali, move, mansion, look, savitri, much, ...  positive  \n",
              "...                                                  ...       ...  \n",
              "34723  [rohan, discovers, amrita, vikram, using, amri...  negative  \n",
              "34724  [rohan, apologizes, rohan, father, rohan, wron...   neutral  \n",
              "34725  [neha, nt, ready, child, hurt, rohan, keeping,...  positive  \n",
              "34726  [rohan, shattered, neha, apologizes, asks, roh...   neutral  \n",
              "34727  [heartbroken, heartbroken, embrace, accept, he...  negative  \n",
              "\n",
              "[34728 rows x 6 columns]"
            ]
          },
          "execution_count": 102,
          "metadata": {},
          "output_type": "execute_result"
        }
      ],
      "source": [
        "from textblob import TextBlob\n",
        "\n",
        "def analyze_sentiment(text):\n",
        "    blob = TextBlob(text)\n",
        "    polarity = blob.sentiment.polarity\n",
        "    if polarity > 0:\n",
        "        return 'positive'\n",
        "    elif polarity < 0:\n",
        "        return 'negative'\n",
        "    else:\n",
        "        return 'neutral'\n",
        "\n",
        "coref_plot['Sentiment'] = coref_plot['Coref Plot'].apply(analyze_sentiment)\n",
        "\n",
        "coref_plot\n"
      ]
    },
    {
      "cell_type": "code",
      "execution_count": 103,
      "metadata": {},
      "outputs": [
        {
          "name": "stdout",
          "output_type": "stream",
          "text": [
            "      Year           Adj 1 Adj 2 Adj 3 Adj 4 Adj 5 Adj 6   Merged_Column\n",
            "0     1970           young   NaN   NaN   NaN   NaN   NaN           young\n",
            "4     1970  unrecognizable   NaN   NaN   NaN   NaN   NaN  unrecognizable\n",
            "9     1970          sister   NaN   NaN   NaN   NaN   NaN          sister\n",
            "18    1970            real   NaN   NaN   NaN   NaN   NaN            real\n",
            "21    1970           young   NaN   NaN   NaN   NaN   NaN           young\n",
            "...    ...             ...   ...   ...   ...   ...   ...             ...\n",
            "5035  2008         widowed   NaN   NaN   NaN   NaN   NaN         widowed\n",
            "5044  2008          Indian   NaN   NaN   NaN   NaN   NaN          Indian\n",
            "5045  2008           young   NaN   NaN   NaN   NaN   NaN           young\n",
            "5056  1971            long   NaN   NaN   NaN   NaN   NaN            long\n",
            "5057  1971       beautiful   NaN   NaN   NaN   NaN   NaN       beautiful\n",
            "\n",
            "[1237 rows x 8 columns]\n"
          ]
        }
      ],
      "source": [
        "f_adj['Merged_Column'] = f_adj.apply(lambda row: ','.join([str(row[col]) for col in row.index if col.startswith('Adj') and pd.notna(row[col])]), axis=1)\n",
        "\n",
        "print(f_adj)"
      ]
    },
    {
      "cell_type": "code",
      "execution_count": 104,
      "metadata": {},
      "outputs": [
        {
          "name": "stdout",
          "output_type": "stream",
          "text": [
            "       Merged_Column\n",
            "0              young\n",
            "4     unrecognizable\n",
            "9             sister\n",
            "18              real\n",
            "21             young\n",
            "...              ...\n",
            "5035         widowed\n",
            "5044          Indian\n",
            "5045           young\n",
            "5056            long\n",
            "5057       beautiful\n",
            "\n",
            "[1237 rows x 1 columns]\n"
          ]
        }
      ],
      "source": [
        "merged_column_name = 'Merged_Column'\n",
        "\n",
        "# Create a new DataFrame with the merged column\n",
        "merged_f_adj = pd.DataFrame(f_adj[merged_column_name])\n",
        "\n",
        "# Display the new DataFrame\n",
        "print(merged_f_adj)\n"
      ]
    },
    {
      "cell_type": "code",
      "execution_count": 105,
      "metadata": {},
      "outputs": [
        {
          "name": "stdout",
          "output_type": "stream",
          "text": [
            "Occurrences of appearance-related adjectives:\n",
            "Appearance_Adjectives\n",
            "beautiful     90\n",
            "rich          38\n",
            "wealthy       23\n",
            "attractive    12\n",
            "simple        11\n",
            "pretty         9\n",
            "unmarried      8\n",
            "feisty         6\n",
            "vivacious      4\n",
            "dumb           2\n",
            "handsome       1\n",
            "uptight        1\n",
            "Name: count, dtype: int64\n"
          ]
        }
      ],
      "source": [
        "from nltk.tokenize import word_tokenize\n",
        "from nltk.tag import pos_tag\n",
        "\n",
        "def filter_appearance_adjectives(text):\n",
        "    tokens = word_tokenize(text)\n",
        "    tagged_tokens = pos_tag(tokens)\n",
        "    stereo_adjectives = [token.lower() for token, tag in tagged_tokens if token.lower() in ['beautiful', 'pretty', 'rich', 'attractive', 'handsome','unmarried','dumb','uptight','goregous','wealthy','feisty','simple','vivacious']]\n",
        "    return stereo_adjectives\n",
        "\n",
        "merged_f_adj['Appearance_Adjectives'] = merged_f_adj['Merged_Column'].apply(filter_appearance_adjectives)\n",
        "\n",
        "appearance_counts = merged_f_adj['Appearance_Adjectives'].explode().value_counts()\n",
        "\n",
        "print(\"Occurrences of appearance-related adjectives:\")\n",
        "print(appearance_counts)\n"
      ]
    },
    {
      "cell_type": "code",
      "execution_count": 106,
      "metadata": {},
      "outputs": [
        {
          "data": {
            "image/png": "[encoded data removed]",
            "text/plain": [
              "<Figure size 1000x600 with 1 Axes>"
            ]
          },
          "metadata": {},
          "output_type": "display_data"
        }
      ],
      "source": [
        "plt.figure(figsize=(10, 6))\n",
        "appearance_counts.plot(kind='bar', color='skyblue')\n",
        "plt.title('Occurrences of Stereotypical Female Adjectives')\n",
        "plt.xlabel('Adjective')\n",
        "plt.ylabel('Count')\n",
        "plt.xticks(rotation=45, ha='right')\n",
        "plt.tight_layout()\n",
        "plt.show()\n"
      ]
    }
  ],
  "metadata": {
    "colab": {
      "provenance": []
    },
    "kernelspec": {
      "display_name": "Python 3",
      "name": "python3"
    },
    "language_info": {
      "codemirror_mode": {
        "name": "ipython",
        "version": 3
      },
      "file_extension": ".py",
      "mimetype": "text/x-python",
      "name": "python",
      "nbconvert_exporter": "python",
      "pygments_lexer": "ipython3",
      "version": "3.12.3"
    }
  },
  "nbformat": 4,
  "nbformat_minor": 0
}
